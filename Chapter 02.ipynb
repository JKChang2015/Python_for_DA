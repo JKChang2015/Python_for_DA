{
 "cells": [
  {
   "cell_type": "markdown",
   "metadata": {},
   "source": [
    "# Python language basic"
   ]
  },
  {
   "cell_type": "markdown",
   "metadata": {},
   "source": [
    "## IPython tips:"
   ]
  },
  {
   "cell_type": "markdown",
   "metadata": {},
   "source": [
    "* `%run` 运行py文件\n",
    "* `%paste` 运行粘贴板上的代码\n",
    "* `%Ctrl-C` 中断代码\n"
   ]
  },
  {
   "cell_type": "markdown",
   "metadata": {},
   "source": [
    "### 快捷键\n",
    "| 快捷键        | 说明                                |\n",
    "|---------------|-------------------------------------|\n",
    "| ⌘ + ↑         | 当前输入的文本搜索之前的命令        |\n",
    "| ⌘ + ↓         | 当前输入的文本搜索之后的命令        |\n",
    "| ⌘ + R         | Readline 方式翻转历史搜索，部分匹配 |\n",
    "| ⌘ + Shift + V | 粘贴                                |\n",
    "| ⌘ + C         | 中断运行                            |\n",
    "| ⌘ + A         | 光标移动到一行的开头                |\n",
    "| ⌘ + E         | 光标移动到一行的结尾                |\n",
    "| ⌘ + K         | 删除光标到行尾的文本                |\n",
    "| ⌘ + U         | 删除当前行的所有文本                |\n",
    "| ⌘ + F         | 光标向后移动一个字符                |\n",
    "| ⌘ +B          | 光标向前移动一个字符                |\n",
    "| ⌘ + L         | 清空屏幕                            |"
   ]
  },
  {
   "cell_type": "markdown",
   "metadata": {},
   "source": [
    "### 魔术命令\n",
    "| 命令               | 说明                                                     |\n",
    "|--------------------|----------------------------------------------------------|\n",
    "| %quickref          | 显示IPython 的快速参考                                   |\n",
    "| %magic             | 显示所有魔术命令的详情                                   |\n",
    "| %debug             | 在出现异常的语句进入调试模式                             |\n",
    "| %hist              | 打印命令输入的历史                                       |\n",
    "| %pdb               | 出现异常时自动进入调试                                   |\n",
    "| %paste             | 执行剪贴板中的代码                                       |\n",
    "| %cpaste            | 开启特别提示，手动粘贴待执行代码                         |\n",
    "| %reset             | 删除所有命名空间中的变量和名字                           |\n",
    "| %page OBJECT       | 美化打印对象，分页显示                                   |\n",
    "| %run script.py     | 运行代码                                                 |\n",
    "| %time statement    | 报告单挑语句的执行与实践                                 |\n",
    "| %timeit statement  | 多次运行一条语句，计算平均执行时间。适合执行时间短的代码 |\n",
    "| %who,%who_Is,%whos | 显示命名空间中的变量                                     |\n",
    "| %xdel variable     | 删除一个变量，并清空任何对它的引用                       |"
   ]
  },
  {
   "cell_type": "code",
   "execution_count": 7,
   "metadata": {},
   "outputs": [
    {
     "data": {
      "text/plain": [
       "<function str.split>"
      ]
     },
     "execution_count": 7,
     "metadata": {},
     "output_type": "execute_result"
    }
   ],
   "source": [
    "a = 'foo'\n",
    "getattr(a,'split')\n"
   ]
  },
  {
   "cell_type": "markdown",
   "metadata": {},
   "source": [
    "## Python语法基础"
   ]
  },
  {
   "cell_type": "markdown",
   "metadata": {},
   "source": [
    "赋值也被称作绑定，我们是把一个名字绑定给一个对象。变量名有时可能被称为绑定变量。当你将对象作为参数传递给函数时，新的局域变量创建了对原始对象的引用，而不是复制。"
   ]
  },
  {
   "cell_type": "markdown",
   "metadata": {},
   "source": [
    "### String\n",
    "`1`. Python的字符串是不可变的，不能修改字符串："
   ]
  },
  {
   "cell_type": "code",
   "execution_count": 8,
   "metadata": {},
   "outputs": [
    {
     "ename": "TypeError",
     "evalue": "'str' object does not support item assignment",
     "output_type": "error",
     "traceback": [
      "\u001b[0;31m---------------------------------------------------------------------------\u001b[0m",
      "\u001b[0;31mTypeError\u001b[0m                                 Traceback (most recent call last)",
      "\u001b[0;32m<ipython-input-8-2a57d9311597>\u001b[0m in \u001b[0;36m<module>\u001b[0;34m()\u001b[0m\n\u001b[1;32m      1\u001b[0m \u001b[0ma\u001b[0m \u001b[0;34m=\u001b[0m \u001b[0;34m'this is a string'\u001b[0m\u001b[0;34m\u001b[0m\u001b[0m\n\u001b[0;32m----> 2\u001b[0;31m \u001b[0ma\u001b[0m\u001b[0;34m[\u001b[0m\u001b[0;36m10\u001b[0m\u001b[0;34m]\u001b[0m \u001b[0;34m=\u001b[0m \u001b[0;34m'b'\u001b[0m\u001b[0;34m\u001b[0m\u001b[0m\n\u001b[0m",
      "\u001b[0;31mTypeError\u001b[0m: 'str' object does not support item assignment"
     ]
    }
   ],
   "source": [
    "a = 'this is a string'\n",
    "a[10] = 'b'"
   ]
  },
  {
   "cell_type": "code",
   "execution_count": 11,
   "metadata": {},
   "outputs": [
    {
     "name": "stdout",
     "output_type": "stream",
     "text": [
      "this is a longer string\n",
      "this is a string\n"
     ]
    }
   ],
   "source": [
    "a = 'this is a string'\n",
    "b = a.replace('string', 'longer string')\n",
    "print(b)\n",
    "print(a) # a hasn't changed"
   ]
  },
  {
   "cell_type": "markdown",
   "metadata": {},
   "source": [
    "`2`. 字符串是一个序列的Unicode字符，因此可以像其它序列，比如列表和元组（下一章会详细介绍两者）一样处理："
   ]
  },
  {
   "cell_type": "code",
   "execution_count": 13,
   "metadata": {},
   "outputs": [
    {
     "data": {
      "text/plain": [
       "['p', 'y', 't', 'h', 'o', 'n']"
      ]
     },
     "execution_count": 13,
     "metadata": {},
     "output_type": "execute_result"
    }
   ],
   "source": [
    "s = 'python'\n",
    "list(s)"
   ]
  },
  {
   "cell_type": "markdown",
   "metadata": {},
   "source": [
    "`3`. format()"
   ]
  },
  {
   "cell_type": "code",
   "execution_count": 16,
   "metadata": {},
   "outputs": [
    {
     "data": {
      "text/plain": [
       "'4.56 Argentine Pesos are worth US$1'"
      ]
     },
     "execution_count": 16,
     "metadata": {},
     "output_type": "execute_result"
    }
   ],
   "source": [
    "template = '{0:.2f} {1:s} are worth US${2:d}'\n",
    "template.format(4.5560, 'Argentine Pesos', 1)"
   ]
  },
  {
   "cell_type": "markdown",
   "metadata": {},
   "source": [
    "在这个字符串中，\n",
    "\n",
    "* `{0:.2f}` 表示格式化第一个参数为带有两位小数的浮点数。\n",
    "* `{1:s}` 表示格式化第二个参数为字符串。\n",
    "* `{2:d}` 表示格式化第三个参数为一个整数。"
   ]
  },
  {
   "cell_type": "markdown",
   "metadata": {},
   "source": [
    "`4`. 字节和Unicode <br/>\n",
    "在Python 3及以上版本中，Unicode是一级的字符串类型，这样可以更一致的处理ASCII和Non-ASCII文本。在老的Python版本中，字符串都是字节，不使用Unicode编码。假如知道字符编码，可以将其转化为Unicode。"
   ]
  },
  {
   "cell_type": "code",
   "execution_count": 17,
   "metadata": {},
   "outputs": [
    {
     "data": {
      "text/plain": [
       "'español'"
      ]
     },
     "execution_count": 17,
     "metadata": {},
     "output_type": "execute_result"
    }
   ],
   "source": [
    "val = \"español\"\n",
    "val"
   ]
  },
  {
   "cell_type": "code",
   "execution_count": 18,
   "metadata": {},
   "outputs": [
    {
     "data": {
      "text/plain": [
       "b'espa\\xc3\\xb1ol'"
      ]
     },
     "execution_count": 18,
     "metadata": {},
     "output_type": "execute_result"
    }
   ],
   "source": [
    "# 可以用encode将这个Unicode字符串编码为UTF-8：\n",
    "val_utf8 = val.encode('utf-8')\n",
    "val_utf8"
   ]
  },
  {
   "cell_type": "code",
   "execution_count": 19,
   "metadata": {},
   "outputs": [
    {
     "data": {
      "text/plain": [
       "'español'"
      ]
     },
     "execution_count": 19,
     "metadata": {},
     "output_type": "execute_result"
    }
   ],
   "source": [
    "# 如果你知道一个字节对象的Unicode编码，用decode方法可以解码：\n",
    "val_utf8.decode('utf-8')"
   ]
  },
  {
   "cell_type": "markdown",
   "metadata": {},
   "source": [
    "工作中碰到的文件很多都是字节对象，盲目地将所有数据编码为Unicode是不可取的。虽然用的不多，你可以在字节文本的前面加上一个b："
   ]
  },
  {
   "cell_type": "code",
   "execution_count": 20,
   "metadata": {},
   "outputs": [
    {
     "data": {
      "text/plain": [
       "b'this is bytes'"
      ]
     },
     "execution_count": 20,
     "metadata": {},
     "output_type": "execute_result"
    }
   ],
   "source": [
    "bytes_val = b'this is bytes'\n",
    "bytes_val"
   ]
  },
  {
   "cell_type": "code",
   "execution_count": 22,
   "metadata": {},
   "outputs": [
    {
     "data": {
      "text/plain": [
       "'this is bytes'"
      ]
     },
     "execution_count": 22,
     "metadata": {},
     "output_type": "execute_result"
    }
   ],
   "source": [
    "decoded = bytes_val.decode('utf8')\n",
    "decoded"
   ]
  },
  {
   "cell_type": "markdown",
   "metadata": {},
   "source": [
    "### Time"
   ]
  },
  {
   "cell_type": "code",
   "execution_count": null,
   "metadata": {},
   "outputs": [],
   "source": []
  }
 ],
 "metadata": {
  "kernelspec": {
   "display_name": "Python 3",
   "language": "python",
   "name": "python3"
  },
  "language_info": {
   "codemirror_mode": {
    "name": "ipython",
    "version": 3
   },
   "file_extension": ".py",
   "mimetype": "text/x-python",
   "name": "python",
   "nbconvert_exporter": "python",
   "pygments_lexer": "ipython3",
   "version": "3.6.5"
  }
 },
 "nbformat": 4,
 "nbformat_minor": 2
}
