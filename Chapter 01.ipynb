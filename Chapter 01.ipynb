{
 "cells": [
  {
   "cell_type": "markdown",
   "metadata": {},
   "source": [
    "# Prelliminaries"
   ]
  },
  {
   "cell_type": "markdown",
   "metadata": {},
   "source": [
    "### 重要的Python库"
   ]
  },
  {
   "cell_type": "markdown",
   "metadata": {},
   "source": [
    "#### 1. Numpy\n",
    "NumPy（Numerical Python的简称）是Python科学计算的基础包。本书大部分内容都基于NumPy以及构建于其上的库。\n",
    "* 快速高效的多维数组对象ndarray。\n",
    "* 用于对数组执行元素级计算以及直接对数组执行数学运算的函数。\n",
    "* 用于读写硬盘上基于数组的数据集的工具。\n",
    "* 线性代数运算、傅里叶变换，以及随机数生成。\n",
    "\n",
    "除了为Python提供快速的数组处理能力，NumPy在数据分析方面还有另外一个主要作用，即作为在`算法和库之间传递数据的容器`。对于数值型数据，NumPy数组在存储和处理数据时要比内置的Python数据结构`高效`得多。此外，由低级语言（比如C和Fortran）编写的库可以直接操作NumPy数组中的数据，无需进行任何数据复制工作。因此，许多Python的数值计算工具要么使用NumPy数组作为主要的数据结构，要么可以与NumPy进行无缝交互操作。"
   ]
  },
  {
   "cell_type": "markdown",
   "metadata": {},
   "source": [
    "#### 2.Pandas\n",
    "pandas提供了快速便捷处理结构化数据的大量数据结构和函数。最多的pandas对象是DataFrame，它是一个面向列（column-oriented）的二维表结构，另一个是Series，一个一维的标签化数组对象。\n",
    "\n",
    "pandas兼具NumPy高性能的数组计算功能以及电子表格和关系型数据库（如SQL）灵活的数据处理功能。它提供了复杂精细的索引功能，以便更为便捷地完成重塑、切片和切块、聚合以及选取数据子集等操作。\n",
    "\n",
    "* 有标签轴的数据结构，支持自动或清晰的数据对齐。这可以防止由于数据不对齐，和处理来源不同的索引不同的数据，造成的错误。\n",
    "* 集成时间序列功能。\n",
    "* 相同的数据结构用于处理时间序列数据和非时间序列数据。\n",
    "* 保存元数据的算术运算和压缩。\n",
    "* 灵活处理缺失数据。\n",
    "* 合并和其它流行数据库（例如基于SQL的数据库）的关系操作。\n"
   ]
  },
  {
   "cell_type": "markdown",
   "metadata": {},
   "source": [
    "#### 3.matplotlib\n",
    "matplotlib是最流行的用于绘制图表和其它二维数据可视化的Python库。"
   ]
  },
  {
   "cell_type": "markdown",
   "metadata": {},
   "source": [
    "#### 4. SciPy\n",
    "SciPy是一组专门解决科学计算中各种标准问题域的包的集合，主要包括下面这些包：\n",
    "\n",
    "* scipy.integrate：数值积分例程和微分方程求解器。\n",
    "* scipy.linalg：扩展了由numpy.linalg提供的线性代数例程和矩阵分解功能。\n",
    "* scipy.optimize：函数优化器（最小化器）以及根查找算法。\n",
    "* scipy.signal：信号处理工具。\n",
    "* scipy.sparse：稀疏矩阵和稀疏线性系统求解器。\n",
    "* scipy.special：SPECFUN（这是一个实现了许多常用数学函数（如伽玛函数）的Fortran库）的包装器。\n",
    "* scipy.stats：标准连续和离散概率分布（如密度函数、采样器、连续分布函数等）、各种统计检验方法，以及更好的描述统计法。"
   ]
  },
  {
   "cell_type": "markdown",
   "metadata": {},
   "source": [
    "#### 5. scikit-learn\n",
    "2010年诞生以来，scikit-learn成为了Python的通用机器学习工具包。\n",
    "\n",
    "* 分类：SVM、近邻、随机森林、逻辑回归等等。\n",
    "* 回归：Lasso、岭回归等等。\n",
    "* 聚类：k-均值、谱聚类等等。\n",
    "* 降维：PCA、特征选择、矩阵分解等等。\n",
    "* 选型：网格搜索、交叉验证、度量。\n",
    "* 预处理：特征提取、标准化。"
   ]
  },
  {
   "cell_type": "markdown",
   "metadata": {},
   "source": [
    "#### 6. statsmodels\n",
    "statsmodels是一个统计分析包，与scikit-learn比较，statsmodels包含经典统计学和经济计量学的算法。\n",
    "* 回归模型：线性回归，广义线性模型，健壮线性模型，线性混合效应模型等等。\n",
    "* 方差分析（ANOVA）。\n",
    "* 时间序列分析：AR，ARMA，ARIMA，VAR和其它模型。\n",
    "* 非参数方法： 核密度估计，核回归。\n",
    "* 统计模型结果可视化。\n",
    "statsmodels更关注与统计推断，提供不确定估计和参数p-值。相反的，scikit-learn注重预测。"
   ]
  },
  {
   "cell_type": "markdown",
   "metadata": {},
   "source": [
    "### Terminology\n",
    "\n",
    "* 数据规整（Munge/Munging/Wrangling）\n",
    "指的是将非结构化和（或）散乱数据处理为结构化或整洁形式的整个过程。这几个词已经悄悄成为当今数据黑客们的行话了。Munge这个词跟Lunge押韵。\n",
    "\n",
    "* 伪码（Pseudocode）\n",
    "算法或过程的“代码式”描述，而这些代码本身并不是实际有效的源代码。\n",
    "\n",
    "* 语法糖（Syntactic sugar）\n",
    "这是一种编程语法，它并不会带来新的特性，但却能使代码更易读、更易写。\n",
    "\n"
   ]
  },
  {
   "cell_type": "code",
   "execution_count": null,
   "metadata": {},
   "outputs": [],
   "source": []
  }
 ],
 "metadata": {
  "kernelspec": {
   "display_name": "Python 3",
   "language": "python",
   "name": "python3"
  },
  "language_info": {
   "codemirror_mode": {
    "name": "ipython",
    "version": 3
   },
   "file_extension": ".py",
   "mimetype": "text/x-python",
   "name": "python",
   "nbconvert_exporter": "python",
   "pygments_lexer": "ipython3",
   "version": "3.6.5"
  }
 },
 "nbformat": 4,
 "nbformat_minor": 2
}
